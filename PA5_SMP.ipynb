{
 "cells": [
  {
   "cell_type": "markdown",
   "metadata": {},
   "source": [
    "# Programming Assignment 5\n",
    "---\n",
    "**Author:** Sheridan Payne  \n",
    "**Version:** 1.0  \n",
    "**Semester:** Fall 2020  \n",
    "\n",
    "This *notebook* contains my solution to **Programming Assignment 5**\n",
    "\n",
    "- Problem 1: Language Translator\n",
    "- Problem 2: D&D Character Dictionary"
   ]
  },
  {
   "cell_type": "markdown",
   "metadata": {},
   "source": [
    "Problem 1"
   ]
  },
  {
   "cell_type": "code",
   "execution_count": 42,
   "metadata": {},
   "outputs": [
    {
     "name": "stdout",
     "output_type": "stream",
     "text": [
      "Enter a word to translate from English to Romanian (enter 0 to stop): stamp\n",
      "The Romanian word for stamp is timbru\n",
      "Enter a word to translate from English to Romanian (enter 0 to stop): school\n",
      "The Romanian word for school is not in this dictionary\n",
      "Enter a word to translate from English to Romanian (enter 0 to stop): college\n",
      "The Romanian word for college is colegiu\n",
      "Enter a word to translate from English to Romanian (enter 0 to stop): coffee\n",
      "The Romanian word for coffee is cafea\n",
      "Enter a word to translate from English to Romanian (enter 0 to stop): desk\n",
      "The Romanian word for desk is not in this dictionary\n",
      "Enter a word to translate from English to Romanian (enter 0 to stop): 0\n"
     ]
    }
   ],
   "source": [
    "#English to Romanian translation\n",
    "translator = {'truck':'camion','horse':'cal','stamp':'timbru','airport':'aeroport','mountain':'munte','coffee':'cafea','college':'colegiu','memory':'memorie','shield':'scut','apathy':'apatie','theory':'teorie','vengeance':'razbunare','error':'eroare','silent':'tacut','friend':'prietene','lung':'plaman','smile':'zambet','murder':'omor','wrist':'incheietura','drug':'medicament'}\n",
    "\n",
    "a = 1\n",
    "while a != 0:\n",
    "    eng_word = input(\"Enter a word to translate from English to Romanian (enter 0 to stop): \")\n",
    "    if eng_word == '0':\n",
    "        a = 0\n",
    "    elif eng_word in translator:\n",
    "        print('The Romanian word for',eng_word,'is',translator[eng_word])\n",
    "    elif not (eng_word in translator):\n",
    "        print('The Romanian word for',eng_word,'is not in this dictionary')"
   ]
  },
  {
   "cell_type": "markdown",
   "metadata": {},
   "source": [
    "Problem 2"
   ]
  },
  {
   "cell_type": "code",
   "execution_count": 48,
   "metadata": {},
   "outputs": [],
   "source": [
    "DD_characters = {\n",
    "    'Rogue':[('Hit Die','d8'),('Primary Ability','Dexterity'),('Saves','Dexterity & Intelligence'),'A scoundrel who uses stealth and trickery to overcome obstacles and enemies'],\n",
    "    'Sorcerer':[('Hit Die','d6'),('Primary Ability','Charisma'),('Saves','Constitution & Charisma'),'A spellcaster who draws on inherent magic from a gift or bloodline'],\n",
    "    'Blood Hunter':[('Hit Die','d10'),('Primary Ability','Strength or Dexterity, & Intelligence'),('Saves','Dexterity & Intelligence'),'A fanatical slayer that embraces dark knowledge to destroy evil'],\n",
    "    'Artificer':[('Hit Die','d8'),('Primary Ability','Intelligence'),('Saves','Constitution & Intelligence'),'Masters of unlocking magic in everday objects, artificers are supreme inventors'],\n",
    "    'Warlock':[('Hit Die','d8'),('Primary Ability','Charisma'),('Saves','Wisdom & Charisma'),'A wielder of magic that is derived from a bargain with an extraplanar entity'],\n",
    "    'Monk':[('Hit Die','d8'),('Primary Ability','Dexterity & Wisdom'),('Saves','Strength & Dexterity'),'A master of martial arts, harnessing the power of the body in pursuit of physical and spiritual perfection']\n",
    "}"
   ]
  },
  {
   "cell_type": "code",
   "execution_count": 47,
   "metadata": {},
   "outputs": [],
   "source": [
    "from prettytable import PrettyTable\n",
    "def print_player_data(player):\n",
    "    p = PrettyTable()\n",
    "    p.field_names = [DD_characters[player][0][0],DD_characters[player][1][0],DD_characters[player][2][0]]\n",
    "    p.add_row([DD_characters[player][0][1],DD_characters[player][1][1],DD_characters[player][2][1]])\n",
    "    print(\"Description: \",DD_characters[player][3])\n",
    "    print(p)"
   ]
  },
  {
   "cell_type": "code",
   "execution_count": 62,
   "metadata": {},
   "outputs": [
    {
     "name": "stdout",
     "output_type": "stream",
     "text": [
      "Enter the class of player you would like to look up (Enter 0 to quit): Monk\n",
      "\n",
      "Description:  A master of martial arts, harnessing the power of the body in pursuit of physical and spiritual perfection\n",
      "+---------+--------------------+----------------------+\n",
      "| Hit Die |  Primary Ability   |        Saves         |\n",
      "+---------+--------------------+----------------------+\n",
      "|    d8   | Dexterity & Wisdom | Strength & Dexterity |\n",
      "+---------+--------------------+----------------------+\n",
      "\n",
      "Enter the class of player you would like to look up (Enter 0 to quit): Barbarian\n",
      "I have no record of this player class!\n",
      "\n",
      "Enter the class of player you would like to look up (Enter 0 to quit): Blood Hunter\n",
      "\n",
      "Description:  A fanatical slayer that embraces dark knowledge to destroy evil\n",
      "+---------+---------------------------------------+--------------------------+\n",
      "| Hit Die |            Primary Ability            |          Saves           |\n",
      "+---------+---------------------------------------+--------------------------+\n",
      "|   d10   | Strength or Dexterity, & Intelligence | Dexterity & Intelligence |\n",
      "+---------+---------------------------------------+--------------------------+\n",
      "\n",
      "Enter the class of player you would like to look up (Enter 0 to quit): Sorcerer\n",
      "\n",
      "Description:  A spellcaster who draws on inherent magic from a gift or bloodline\n",
      "+---------+-----------------+-------------------------+\n",
      "| Hit Die | Primary Ability |          Saves          |\n",
      "+---------+-----------------+-------------------------+\n",
      "|    d6   |     Charisma    | Constitution & Charisma |\n",
      "+---------+-----------------+-------------------------+\n",
      "\n",
      "Enter the class of player you would like to look up (Enter 0 to quit): 0\n"
     ]
    }
   ],
   "source": [
    "a = 1\n",
    "while a != 0:\n",
    "    character = input('Enter the class of player you would like to look up (Enter 0 to quit): ')\n",
    "    if character == '0':\n",
    "        a = 0\n",
    "    elif character in DD_characters:\n",
    "        print()\n",
    "        print_player_data(character)\n",
    "        print()\n",
    "    elif not (character in DD_characters):\n",
    "        print('I have no record of this player class!')\n",
    "        print()"
   ]
  }
 ],
 "metadata": {
  "kernelspec": {
   "display_name": "Python 3",
   "language": "python",
   "name": "python3"
  },
  "language_info": {
   "codemirror_mode": {
    "name": "ipython",
    "version": 3
   },
   "file_extension": ".py",
   "mimetype": "text/x-python",
   "name": "python",
   "nbconvert_exporter": "python",
   "pygments_lexer": "ipython3",
   "version": "3.8.3"
  }
 },
 "nbformat": 4,
 "nbformat_minor": 4
}
